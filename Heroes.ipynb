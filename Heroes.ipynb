{
 "cells": [
  {
   "cell_type": "code",
   "execution_count": 1,
   "metadata": {},
   "outputs": [],
   "source": [
    "# Dependencies\n",
    "import pandas as pd\n",
    "import numpy as np"
   ]
  },
  {
   "cell_type": "code",
   "execution_count": 2,
   "metadata": {},
   "outputs": [
    {
     "data": {
      "text/html": [
       "<div>\n",
       "<style scoped>\n",
       "    .dataframe tbody tr th:only-of-type {\n",
       "        vertical-align: middle;\n",
       "    }\n",
       "\n",
       "    .dataframe tbody tr th {\n",
       "        vertical-align: top;\n",
       "    }\n",
       "\n",
       "    .dataframe thead th {\n",
       "        text-align: right;\n",
       "    }\n",
       "</style>\n",
       "<table border=\"1\" class=\"dataframe\">\n",
       "  <thead>\n",
       "    <tr style=\"text-align: right;\">\n",
       "      <th></th>\n",
       "      <th>Age</th>\n",
       "      <th>Gender</th>\n",
       "      <th>Item ID</th>\n",
       "      <th>Item Name</th>\n",
       "      <th>Price</th>\n",
       "      <th>SN</th>\n",
       "    </tr>\n",
       "  </thead>\n",
       "  <tbody>\n",
       "    <tr>\n",
       "      <th>0</th>\n",
       "      <td>38</td>\n",
       "      <td>Male</td>\n",
       "      <td>165</td>\n",
       "      <td>Bone Crushing Silver Skewer</td>\n",
       "      <td>3.37</td>\n",
       "      <td>Aelalis34</td>\n",
       "    </tr>\n",
       "    <tr>\n",
       "      <th>1</th>\n",
       "      <td>21</td>\n",
       "      <td>Male</td>\n",
       "      <td>119</td>\n",
       "      <td>Stormbringer, Dark Blade of Ending Misery</td>\n",
       "      <td>2.32</td>\n",
       "      <td>Eolo46</td>\n",
       "    </tr>\n",
       "    <tr>\n",
       "      <th>2</th>\n",
       "      <td>34</td>\n",
       "      <td>Male</td>\n",
       "      <td>174</td>\n",
       "      <td>Primitive Blade</td>\n",
       "      <td>2.46</td>\n",
       "      <td>Assastnya25</td>\n",
       "    </tr>\n",
       "    <tr>\n",
       "      <th>3</th>\n",
       "      <td>21</td>\n",
       "      <td>Male</td>\n",
       "      <td>92</td>\n",
       "      <td>Final Critic</td>\n",
       "      <td>1.36</td>\n",
       "      <td>Pheusrical25</td>\n",
       "    </tr>\n",
       "    <tr>\n",
       "      <th>4</th>\n",
       "      <td>23</td>\n",
       "      <td>Male</td>\n",
       "      <td>63</td>\n",
       "      <td>Stormfury Mace</td>\n",
       "      <td>1.27</td>\n",
       "      <td>Aela59</td>\n",
       "    </tr>\n",
       "  </tbody>\n",
       "</table>\n",
       "</div>"
      ],
      "text/plain": [
       "   Age Gender  Item ID                                  Item Name  Price  \\\n",
       "0   38   Male      165                Bone Crushing Silver Skewer   3.37   \n",
       "1   21   Male      119  Stormbringer, Dark Blade of Ending Misery   2.32   \n",
       "2   34   Male      174                            Primitive Blade   2.46   \n",
       "3   21   Male       92                               Final Critic   1.36   \n",
       "4   23   Male       63                             Stormfury Mace   1.27   \n",
       "\n",
       "             SN  \n",
       "0     Aelalis34  \n",
       "1        Eolo46  \n",
       "2   Assastnya25  \n",
       "3  Pheusrical25  \n",
       "4        Aela59  "
      ]
     },
     "execution_count": 2,
     "metadata": {},
     "output_type": "execute_result"
    }
   ],
   "source": [
    "# Create a reference to data and import it into Pandas Dataframe\n",
    "data_path = \"purchase_data.json\"\n",
    "heroes = pd.read_json(data_path)\n",
    "heroes.head()"
   ]
  },
  {
   "cell_type": "code",
   "execution_count": 3,
   "metadata": {},
   "outputs": [
    {
     "data": {
      "text/plain": [
       "Index(['Age', 'Gender', 'Item ID', 'Item Name', 'Price', 'SN'], dtype='object')"
      ]
     },
     "execution_count": 3,
     "metadata": {},
     "output_type": "execute_result"
    }
   ],
   "source": [
    "heroes.columns"
   ]
  },
  {
   "cell_type": "code",
   "execution_count": 4,
   "metadata": {},
   "outputs": [
    {
     "data": {
      "text/html": [
       "<div>\n",
       "<style scoped>\n",
       "    .dataframe tbody tr th:only-of-type {\n",
       "        vertical-align: middle;\n",
       "    }\n",
       "\n",
       "    .dataframe tbody tr th {\n",
       "        vertical-align: top;\n",
       "    }\n",
       "\n",
       "    .dataframe thead th {\n",
       "        text-align: right;\n",
       "    }\n",
       "</style>\n",
       "<table border=\"1\" class=\"dataframe\">\n",
       "  <thead>\n",
       "    <tr style=\"text-align: right;\">\n",
       "      <th></th>\n",
       "      <th>Total Players</th>\n",
       "    </tr>\n",
       "  </thead>\n",
       "  <tbody>\n",
       "    <tr>\n",
       "      <th>0</th>\n",
       "      <td>780</td>\n",
       "    </tr>\n",
       "  </tbody>\n",
       "</table>\n",
       "</div>"
      ],
      "text/plain": [
       "   Total Players\n",
       "0            780"
      ]
     },
     "execution_count": 4,
     "metadata": {},
     "output_type": "execute_result"
    }
   ],
   "source": [
    "# PLAYER COUNT\n",
    "# Total number of Players\n",
    "players_count = heroes[\"SN\"].count()\n",
    "pd.DataFrame([players_count], columns = [\"Total Players\"])"
   ]
  },
  {
   "cell_type": "code",
   "execution_count": 5,
   "metadata": {},
   "outputs": [
    {
     "data": {
      "text/plain": [
       "183"
      ]
     },
     "execution_count": 5,
     "metadata": {},
     "output_type": "execute_result"
    }
   ],
   "source": [
    "# PURCHASING ANALYSIS (TOTAL)\n",
    "\n",
    "# the number of unique items\n",
    "unique_items = len(heroes[\"Item ID\"].value_counts())\n",
    "unique_items"
   ]
  },
  {
   "cell_type": "code",
   "execution_count": 6,
   "metadata": {},
   "outputs": [
    {
     "data": {
      "text/plain": [
       "3"
      ]
     },
     "execution_count": 6,
     "metadata": {},
     "output_type": "execute_result"
    }
   ],
   "source": [
    "# the average of the purchase 'price'\n",
    "average_price = int(round(heroes[\"Price\"].mean()))\n",
    "average_price"
   ]
  },
  {
   "cell_type": "code",
   "execution_count": 7,
   "metadata": {},
   "outputs": [
    {
     "data": {
      "text/plain": [
       "780"
      ]
     },
     "execution_count": 7,
     "metadata": {},
     "output_type": "execute_result"
    }
   ],
   "source": [
    "# the total number of purchases\n",
    "total_purchases = heroes[\"Price\"].count()\n",
    "total_purchases"
   ]
  },
  {
   "cell_type": "code",
   "execution_count": 8,
   "metadata": {},
   "outputs": [
    {
     "data": {
      "text/plain": [
       "2286"
      ]
     },
     "execution_count": 8,
     "metadata": {},
     "output_type": "execute_result"
    }
   ],
   "source": [
    "# total revenue \n",
    "total_revenue = int(round(heroes[\"Price\"].sum()))\n",
    "total_revenue"
   ]
  },
  {
   "cell_type": "code",
   "execution_count": 9,
   "metadata": {},
   "outputs": [
    {
     "data": {
      "text/html": [
       "<style  type=\"text/css\" >\n",
       "</style>  \n",
       "<table id=\"T_016edeba_74cd_11e8_ac5a_784f4352aa7f\" > \n",
       "<thead>    <tr> \n",
       "        <th class=\"blank level0\" ></th> \n",
       "        <th class=\"col_heading level0 col0\" >Number of Unique Items</th> \n",
       "        <th class=\"col_heading level0 col1\" >Average Purchase Price</th> \n",
       "        <th class=\"col_heading level0 col2\" >Total Number of Purchases</th> \n",
       "        <th class=\"col_heading level0 col3\" >Total Revenue</th> \n",
       "    </tr></thead> \n",
       "<tbody>    <tr> \n",
       "        <th id=\"T_016edeba_74cd_11e8_ac5a_784f4352aa7flevel0_row0\" class=\"row_heading level0 row0\" >0</th> \n",
       "        <td id=\"T_016edeba_74cd_11e8_ac5a_784f4352aa7frow0_col0\" class=\"data row0 col0\" >183</td> \n",
       "        <td id=\"T_016edeba_74cd_11e8_ac5a_784f4352aa7frow0_col1\" class=\"data row0 col1\" >$3.00</td> \n",
       "        <td id=\"T_016edeba_74cd_11e8_ac5a_784f4352aa7frow0_col2\" class=\"data row0 col2\" >780</td> \n",
       "        <td id=\"T_016edeba_74cd_11e8_ac5a_784f4352aa7frow0_col3\" class=\"data row0 col3\" >$2286.00</td> \n",
       "    </tr></tbody> \n",
       "</table> "
      ],
      "text/plain": [
       "<pandas.io.formats.style.Styler at 0x1060bfdd8>"
      ]
     },
     "execution_count": 9,
     "metadata": {},
     "output_type": "execute_result"
    }
   ],
   "source": [
    "# Purchasing Analysis Summary Table\n",
    "p_analysis_df = pd.DataFrame({\"Number of Unique Items\": [unique_items], \"Average Purchase Price\": [average_price], \"Total Number of Purchases\": [total_purchases], \"Total Revenue\": [total_revenue]}, columns = [\"Number of Unique Items\", \"Average Purchase Price\", \"Total Number of Purchases\", \"Total Revenue\"])\n",
    "p_analysis_df.style.format({\"Average Purchase Price\": \"${:.2f}\", \"Total Revenue\": \"${:.2f}\"})"
   ]
  },
  {
   "cell_type": "code",
   "execution_count": 10,
   "metadata": {},
   "outputs": [
    {
     "data": {
      "text/plain": [
       "SN\n",
       "Adairialis76       1\n",
       "Aduephos78         3\n",
       "Aeduera68          3\n",
       "Aela49             1\n",
       "Aela59             1\n",
       "Aelalis34          2\n",
       "Aelin32            1\n",
       "Aeliriam77         2\n",
       "Aeliriarin93       1\n",
       "Aeliru63           2\n",
       "Aellyria80         1\n",
       "Aellyrialis39      1\n",
       "Aellysup38         1\n",
       "Aelollo59          1\n",
       "Aenarap34          1\n",
       "Aenasu69           1\n",
       "Aeral43            1\n",
       "Aeral85            1\n",
       "Aeral97            1\n",
       "Aeri84             2\n",
       "Aerillorin70       1\n",
       "Aerithllora36      3\n",
       "Aerithnucal56      2\n",
       "Aerithnuphos61     1\n",
       "Aerithriaphos45    1\n",
       "Aesty51            1\n",
       "Aesur96            1\n",
       "Aethe80            1\n",
       "Aethedru70         1\n",
       "Aidain51           2\n",
       "                  ..\n",
       "Undjaskla97        1\n",
       "Undjasksya56       1\n",
       "Undotesta33        1\n",
       "Wailin72           1\n",
       "Whaestysu86        1\n",
       "Yadacal26          1\n",
       "Yadaisuir65        2\n",
       "Yadanun74          3\n",
       "Yalaeria91         1\n",
       "Yaliru88           1\n",
       "Yalo71             1\n",
       "Yalostiphos68      1\n",
       "Yaralnura48        2\n",
       "Yararmol43         1\n",
       "Yarirarn35         1\n",
       "Yaristi64          1\n",
       "Yarithllodeu72     1\n",
       "Yarithphos28       1\n",
       "Yarithsurgue62     2\n",
       "Yarmol79           1\n",
       "Yarolwen77         2\n",
       "Yasriphos60        3\n",
       "Yasrisu92          1\n",
       "Yasur35            1\n",
       "Yasur85            1\n",
       "Yasurra52          1\n",
       "Yathecal72         2\n",
       "Yathecal82         1\n",
       "Zhisrisu83         2\n",
       "Zontibe81          1\n",
       "Name: Gender, Length: 573, dtype: int64"
      ]
     },
     "execution_count": 10,
     "metadata": {},
     "output_type": "execute_result"
    }
   ],
   "source": [
    "# GENDER DEMOGRAPHICS\n",
    "\n",
    "# Group data by gender and check and remove duplicates\n",
    "\n",
    "gender_groups = heroes.groupby(\"SN\")\n",
    "gender_groups[\"Gender\"].count()"
   ]
  },
  {
   "cell_type": "code",
   "execution_count": 11,
   "metadata": {},
   "outputs": [
    {
     "data": {
      "text/html": [
       "<div>\n",
       "<style scoped>\n",
       "    .dataframe tbody tr th:only-of-type {\n",
       "        vertical-align: middle;\n",
       "    }\n",
       "\n",
       "    .dataframe tbody tr th {\n",
       "        vertical-align: top;\n",
       "    }\n",
       "\n",
       "    .dataframe thead th {\n",
       "        text-align: right;\n",
       "    }\n",
       "</style>\n",
       "<table border=\"1\" class=\"dataframe\">\n",
       "  <thead>\n",
       "    <tr style=\"text-align: right;\">\n",
       "      <th></th>\n",
       "      <th>SN</th>\n",
       "      <th>Gender</th>\n",
       "    </tr>\n",
       "  </thead>\n",
       "  <tbody>\n",
       "    <tr>\n",
       "      <th>0</th>\n",
       "      <td>Aelalis34</td>\n",
       "      <td>Male</td>\n",
       "    </tr>\n",
       "    <tr>\n",
       "      <th>1</th>\n",
       "      <td>Eolo46</td>\n",
       "      <td>Male</td>\n",
       "    </tr>\n",
       "    <tr>\n",
       "      <th>2</th>\n",
       "      <td>Assastnya25</td>\n",
       "      <td>Male</td>\n",
       "    </tr>\n",
       "    <tr>\n",
       "      <th>3</th>\n",
       "      <td>Pheusrical25</td>\n",
       "      <td>Male</td>\n",
       "    </tr>\n",
       "    <tr>\n",
       "      <th>4</th>\n",
       "      <td>Aela59</td>\n",
       "      <td>Male</td>\n",
       "    </tr>\n",
       "  </tbody>\n",
       "</table>\n",
       "</div>"
      ],
      "text/plain": [
       "             SN Gender\n",
       "0     Aelalis34   Male\n",
       "1        Eolo46   Male\n",
       "2   Assastnya25   Male\n",
       "3  Pheusrical25   Male\n",
       "4        Aela59   Male"
      ]
     },
     "execution_count": 11,
     "metadata": {},
     "output_type": "execute_result"
    }
   ],
   "source": [
    "gender = heroes[[\"SN\", \"Gender\"]]\n",
    "modify_gender = gender.drop_duplicates()\n",
    "modify_gender.head()"
   ]
  },
  {
   "cell_type": "code",
   "execution_count": 12,
   "metadata": {},
   "outputs": [
    {
     "data": {
      "text/plain": [
       "573"
      ]
     },
     "execution_count": 12,
     "metadata": {},
     "output_type": "execute_result"
    }
   ],
   "source": [
    "total = modify_gender[\"SN\"].count()\n",
    "total"
   ]
  },
  {
   "cell_type": "code",
   "execution_count": 13,
   "metadata": {},
   "outputs": [
    {
     "data": {
      "text/html": [
       "<style  type=\"text/css\" >\n",
       "</style>  \n",
       "<table id=\"T_017cab00_74cd_11e8_a3e9_784f4352aa7f\" > \n",
       "<thead>    <tr> \n",
       "        <th class=\"blank level0\" ></th> \n",
       "        <th class=\"col_heading level0 col0\" >Gender</th> \n",
       "        <th class=\"col_heading level0 col1\" >Percentage of Players</th> \n",
       "        <th class=\"col_heading level0 col2\" >Total Count</th> \n",
       "    </tr></thead> \n",
       "<tbody>    <tr> \n",
       "        <th id=\"T_017cab00_74cd_11e8_a3e9_784f4352aa7flevel0_row0\" class=\"row_heading level0 row0\" >0</th> \n",
       "        <td id=\"T_017cab00_74cd_11e8_a3e9_784f4352aa7frow0_col0\" class=\"data row0 col0\" >Male</td> \n",
       "        <td id=\"T_017cab00_74cd_11e8_a3e9_784f4352aa7frow0_col1\" class=\"data row0 col1\" >81.15%</td> \n",
       "        <td id=\"T_017cab00_74cd_11e8_a3e9_784f4352aa7frow0_col2\" class=\"data row0 col2\" >465</td> \n",
       "    </tr>    <tr> \n",
       "        <th id=\"T_017cab00_74cd_11e8_a3e9_784f4352aa7flevel0_row1\" class=\"row_heading level0 row1\" >1</th> \n",
       "        <td id=\"T_017cab00_74cd_11e8_a3e9_784f4352aa7frow1_col0\" class=\"data row1 col0\" >Female</td> \n",
       "        <td id=\"T_017cab00_74cd_11e8_a3e9_784f4352aa7frow1_col1\" class=\"data row1 col1\" >17.45%</td> \n",
       "        <td id=\"T_017cab00_74cd_11e8_a3e9_784f4352aa7frow1_col2\" class=\"data row1 col2\" >100</td> \n",
       "    </tr>    <tr> \n",
       "        <th id=\"T_017cab00_74cd_11e8_a3e9_784f4352aa7flevel0_row2\" class=\"row_heading level0 row2\" >2</th> \n",
       "        <td id=\"T_017cab00_74cd_11e8_a3e9_784f4352aa7frow2_col0\" class=\"data row2 col0\" >Other / Non-Disclosed</td> \n",
       "        <td id=\"T_017cab00_74cd_11e8_a3e9_784f4352aa7frow2_col1\" class=\"data row2 col1\" >1.40%</td> \n",
       "        <td id=\"T_017cab00_74cd_11e8_a3e9_784f4352aa7frow2_col2\" class=\"data row2 col2\" >8</td> \n",
       "    </tr></tbody> \n",
       "</table> "
      ],
      "text/plain": [
       "<pandas.io.formats.style.Styler at 0x1075ddeb8>"
      ]
     },
     "execution_count": 13,
     "metadata": {},
     "output_type": "execute_result"
    }
   ],
   "source": [
    "# count and percentage of male, female and other players\n",
    "males = modify_gender[modify_gender['Gender']==\"Male\"][\"SN\"].nunique()\n",
    "females = modify_gender[modify_gender['Gender']==\"Female\"][\"SN\"].nunique()\n",
    "other = modify_gender[modify_gender[\"Gender\"]=='Other / Non-Disclosed'][\"SN\"].nunique()\n",
    "\n",
    "# percentage of male, female and other players\n",
    "malepercent = ((males/total)*100)\n",
    "femalepercent = ((females/total)*100)\n",
    "otherpercent = ((other/total)*100)\n",
    "\n",
    "# summary of gender demographics \n",
    "gender_demo_df = pd.DataFrame({\"Gender\": [\"Male\", \"Female\", \"Other / Non-Disclosed\"], \"Percentage of Players\": [malepercent, femalepercent, otherpercent],\n",
    "                                        \"Total Count\": [males, females, other]}, columns = \n",
    "                                        [\"Gender\", \"Percentage of Players\", \"Total Count\"])\n",
    "gender_demo_df.style.format({\"Percentage of Players\": \"{:.2f}%\"})"
   ]
  },
  {
   "cell_type": "code",
   "execution_count": 14,
   "metadata": {},
   "outputs": [],
   "source": [
    "# PURCHASING ANALYSIS (GENDER)\n",
    "gen_purchase = heroes[[\"SN\", \"Gender\", \"Price\"]]\n",
    "mod_gender = gen_purchase.drop_duplicates()\n"
   ]
  },
  {
   "cell_type": "code",
   "execution_count": 15,
   "metadata": {},
   "outputs": [
    {
     "data": {
      "text/html": [
       "<style  type=\"text/css\" >\n",
       "</style>  \n",
       "<table id=\"T_0183762e_74cd_11e8_80e9_784f4352aa7f\" > \n",
       "<thead>    <tr> \n",
       "        <th class=\"blank level0\" ></th> \n",
       "        <th class=\"col_heading level0 col0\" >Gender</th> \n",
       "        <th class=\"col_heading level0 col1\" >Purchase Count</th> \n",
       "        <th class=\"col_heading level0 col2\" >Average Purchase Price</th> \n",
       "        <th class=\"col_heading level0 col3\" >Total Purchase Value</th> \n",
       "        <th class=\"col_heading level0 col4\" >Normalized Totals</th> \n",
       "    </tr></thead> \n",
       "<tbody>    <tr> \n",
       "        <th id=\"T_0183762e_74cd_11e8_80e9_784f4352aa7flevel0_row0\" class=\"row_heading level0 row0\" >0</th> \n",
       "        <td id=\"T_0183762e_74cd_11e8_80e9_784f4352aa7frow0_col0\" class=\"data row0 col0\" >Male</td> \n",
       "        <td id=\"T_0183762e_74cd_11e8_80e9_784f4352aa7frow0_col1\" class=\"data row0 col1\" >631</td> \n",
       "        <td id=\"T_0183762e_74cd_11e8_80e9_784f4352aa7frow0_col2\" class=\"data row0 col2\" >$2.95</td> \n",
       "        <td id=\"T_0183762e_74cd_11e8_80e9_784f4352aa7frow0_col3\" class=\"data row0 col3\" >$1862.03</td> \n",
       "        <td id=\"T_0183762e_74cd_11e8_80e9_784f4352aa7frow0_col4\" class=\"data row0 col4\" >$4.00</td> \n",
       "    </tr>    <tr> \n",
       "        <th id=\"T_0183762e_74cd_11e8_80e9_784f4352aa7flevel0_row1\" class=\"row_heading level0 row1\" >1</th> \n",
       "        <td id=\"T_0183762e_74cd_11e8_80e9_784f4352aa7frow1_col0\" class=\"data row1 col0\" >Female</td> \n",
       "        <td id=\"T_0183762e_74cd_11e8_80e9_784f4352aa7frow1_col1\" class=\"data row1 col1\" >135</td> \n",
       "        <td id=\"T_0183762e_74cd_11e8_80e9_784f4352aa7frow1_col2\" class=\"data row1 col2\" >$2.83</td> \n",
       "        <td id=\"T_0183762e_74cd_11e8_80e9_784f4352aa7frow1_col3\" class=\"data row1 col3\" >$381.55</td> \n",
       "        <td id=\"T_0183762e_74cd_11e8_80e9_784f4352aa7frow1_col4\" class=\"data row1 col4\" >$3.82</td> \n",
       "    </tr>    <tr> \n",
       "        <th id=\"T_0183762e_74cd_11e8_80e9_784f4352aa7flevel0_row2\" class=\"row_heading level0 row2\" >2</th> \n",
       "        <td id=\"T_0183762e_74cd_11e8_80e9_784f4352aa7frow2_col0\" class=\"data row2 col0\" >Other / Non-Disclosed</td> \n",
       "        <td id=\"T_0183762e_74cd_11e8_80e9_784f4352aa7frow2_col1\" class=\"data row2 col1\" >11</td> \n",
       "        <td id=\"T_0183762e_74cd_11e8_80e9_784f4352aa7frow2_col2\" class=\"data row2 col2\" >$3.25</td> \n",
       "        <td id=\"T_0183762e_74cd_11e8_80e9_784f4352aa7frow2_col3\" class=\"data row2 col3\" >$35.74</td> \n",
       "        <td id=\"T_0183762e_74cd_11e8_80e9_784f4352aa7frow2_col4\" class=\"data row2 col4\" >$4.47</td> \n",
       "    </tr></tbody> \n",
       "</table> "
      ],
      "text/plain": [
       "<pandas.io.formats.style.Styler at 0x1032872b0>"
      ]
     },
     "execution_count": 15,
     "metadata": {},
     "output_type": "execute_result"
    }
   ],
   "source": [
    "# purchase count by gender\n",
    "malepurch = mod_gender[mod_gender[\"Gender\"] == \"Male\"][\"Price\"].count()\n",
    "femalepurch = mod_gender[mod_gender[\"Gender\"] == \"Female\"][\"Price\"].count()\n",
    "otherpurch = mod_gender[mod_gender[\"Gender\"] == \"Other / Non-Disclosed\"][\"Price\"].count()\n",
    "\n",
    "# average purchase price by gender\n",
    "mpriceav = mod_gender[mod_gender[\"Gender\"] == \"Male\"][\"Price\"].mean()\n",
    "fpriceav = mod_gender[mod_gender[\"Gender\"] == \"Female\"][\"Price\"].mean()\n",
    "opriceav = mod_gender[mod_gender[\"Gender\"] == \"Other / Non-Disclosed\"][\"Price\"].mean()\n",
    "\n",
    "# total purchase value by gender\n",
    "mpricetotal = mod_gender[mod_gender[\"Gender\"] == \"Male\"]['Price'].sum()\n",
    "fpricetotal = mod_gender[mod_gender[\"Gender\"] == \"Female\"]['Price'].sum()\n",
    "opricetotal = mod_gender[mod_gender[\"Gender\"] == \"Other / Non-Disclosed\"]['Price'].sum()\n",
    "\n",
    "# normalized totals\n",
    "male_norm = mpricetotal/males\n",
    "female_norm = fpricetotal/females\n",
    "other_norm = opricetotal/other\n",
    "\n",
    "# summary of purchasing analysis (gender)\n",
    "gender_purchasing_df = pd.DataFrame ({\"Gender\": [\"Male\", \"Female\", \"Other / Non-Disclosed\"], \"Purchase Count\": [malepurch, femalepurch, otherpurch],\n",
    "                                        \"Average Purchase Price\": [mpriceav, fpriceav, opriceav], \"Total Purchase Value\": [mpricetotal, fpricetotal, opricetotal],\n",
    "                                \"Normalized Totals\": [male_norm, female_norm, other_norm]}, columns = \n",
    "                                        [\"Gender\", \"Purchase Count\", \"Average Purchase Price\", \"Total Purchase Value\", \"Normalized Totals\"])\n",
    "\n",
    "gender_purchasing_df.style.format({\"Average Purchase Price\": \"${:.2f}\", \"Total Purchase Value\": \"${:.2f}\", \"Normalized Totals\": \"${:.2f}\"})\n",
    "\n",
    "                                        "
   ]
  },
  {
   "cell_type": "code",
   "execution_count": 16,
   "metadata": {},
   "outputs": [
    {
     "name": "stdout",
     "output_type": "stream",
     "text": [
      "45\n",
      "7\n"
     ]
    }
   ],
   "source": [
    "# Finding out the maximum and minimum age\n",
    "print(heroes[\"Age\"].max())\n",
    "print (heroes[\"Age\"].min())"
   ]
  },
  {
   "cell_type": "code",
   "execution_count": 17,
   "metadata": {},
   "outputs": [
    {
     "data": {
      "text/html": [
       "<div>\n",
       "<style scoped>\n",
       "    .dataframe tbody tr th:only-of-type {\n",
       "        vertical-align: middle;\n",
       "    }\n",
       "\n",
       "    .dataframe tbody tr th {\n",
       "        vertical-align: top;\n",
       "    }\n",
       "\n",
       "    .dataframe thead th {\n",
       "        text-align: right;\n",
       "    }\n",
       "</style>\n",
       "<table border=\"1\" class=\"dataframe\">\n",
       "  <thead>\n",
       "    <tr style=\"text-align: right;\">\n",
       "      <th></th>\n",
       "      <th>Percent of Players</th>\n",
       "      <th>Total Count</th>\n",
       "    </tr>\n",
       "  </thead>\n",
       "  <tbody>\n",
       "    <tr>\n",
       "      <th>&lt;10</th>\n",
       "      <td>2.0</td>\n",
       "      <td>19</td>\n",
       "    </tr>\n",
       "    <tr>\n",
       "      <th>10-14</th>\n",
       "      <td>3.0</td>\n",
       "      <td>23</td>\n",
       "    </tr>\n",
       "    <tr>\n",
       "      <th>15-19</th>\n",
       "      <td>13.0</td>\n",
       "      <td>100</td>\n",
       "    </tr>\n",
       "    <tr>\n",
       "      <th>20-24</th>\n",
       "      <td>33.0</td>\n",
       "      <td>259</td>\n",
       "    </tr>\n",
       "    <tr>\n",
       "      <th>25-29</th>\n",
       "      <td>11.0</td>\n",
       "      <td>87</td>\n",
       "    </tr>\n",
       "    <tr>\n",
       "      <th>30-34</th>\n",
       "      <td>6.0</td>\n",
       "      <td>47</td>\n",
       "    </tr>\n",
       "    <tr>\n",
       "      <th>35-39</th>\n",
       "      <td>3.0</td>\n",
       "      <td>27</td>\n",
       "    </tr>\n",
       "    <tr>\n",
       "      <th>40+</th>\n",
       "      <td>1.0</td>\n",
       "      <td>11</td>\n",
       "    </tr>\n",
       "  </tbody>\n",
       "</table>\n",
       "</div>"
      ],
      "text/plain": [
       "       Percent of Players  Total Count\n",
       "<10                   2.0           19\n",
       "10-14                 3.0           23\n",
       "15-19                13.0          100\n",
       "20-24                33.0          259\n",
       "25-29                11.0           87\n",
       "30-34                 6.0           47\n",
       "35-39                 3.0           27\n",
       "40+                   1.0           11"
      ]
     },
     "execution_count": 17,
     "metadata": {},
     "output_type": "execute_result"
    }
   ],
   "source": [
    "# AGE DEMOGRAPHICS (Age group bins)\n",
    "ad = heroes[[\"SN\", \"Age\"]]\n",
    "modify_ad = ad.drop_duplicates()\n",
    "\n",
    "# Create age group counts for players \n",
    "ten = modify_ad[modify_ad[\"Age\"] < 10].count()[0]\n",
    "ten_more = modify_ad[(modify_ad[\"Age\"] >= 10) & (modify_ad[\"Age\"] <= 14)].count()[0]\n",
    "teens = modify_ad[(modify_ad[\"Age\"] >= 15) & (modify_ad[\"Age\"] <= 19)].count()[0]\n",
    "twenty = modify_ad[(modify_ad[\"Age\"] >= 20) & (modify_ad[\"Age\"] <= 24)].count()[0]\n",
    "twenty_more = modify_ad[(modify_ad[\"Age\"] >= 25) & (modify_ad[\"Age\"] <= 29)].count()[0]\n",
    "thirty = modify_ad[(modify_ad[\"Age\"] >= 30) & (modify_ad[\"Age\"] <= 34)].count()[0]\n",
    "thirty_more = modify_ad[(modify_ad[\"Age\"] >= 35) & (modify_ad[\"Age\"] <= 39)].count()[0]\n",
    "forty = modify_ad[modify_ad[\"Age\"] >= 40].count()[0]\n",
    "ages = [ten, ten_more, teens, twenty, twenty_more, thirty, thirty_more, forty]\n",
    "\n",
    "# Create age group precent for players\n",
    "percent_ten = round((ten/players_count)*100)\n",
    "percent_teen1 = round((ten_more/players_count)*100)\n",
    "percent_teen2 = round((teens/players_count)*100)\n",
    "percent_twenty = round((twenty/players_count)*100)\n",
    "percent_twenty2 = round((twenty_more/players_count)*100)\n",
    "percent_thirty = round((thirty/players_count)*100)\n",
    "percent_thirty2 = round((thirty_more/players_count)*100)\n",
    "percent_forty = round((forty/players_count)*100)\n",
    "percents_a = [percent_ten, percent_teen1, percent_teen2, percent_twenty, percent_twenty2, percent_thirty, percent_thirty2, percent_forty]\n",
    "\n",
    "# Create dataframe for age demography summary\n",
    "age_demograph = {\n",
    "        \"Percent of Players\": percents_a,\n",
    "        \"Total Count\": ages\n",
    "    }\n",
    "age_demo_df = pd.DataFrame(age_demograph)\n",
    "age_demo_df.index = ([\"<10\", \"10-14\", \"15-19\", \"20-24\", \"25-29\", \"30-34\", \"35-39\", \"40+\"])\n",
    "age_demo_df"
   ]
  },
  {
   "cell_type": "code",
   "execution_count": 18,
   "metadata": {},
   "outputs": [
    {
     "data": {
      "text/html": [
       "<style  type=\"text/css\" >\n",
       "</style>  \n",
       "<table id=\"T_0193bf0c_74cd_11e8_810d_784f4352aa7f\" > \n",
       "<thead>    <tr> \n",
       "        <th class=\"blank level0\" ></th> \n",
       "        <th class=\"col_heading level0 col0\" >Purchase Count</th> \n",
       "        <th class=\"col_heading level0 col1\" >Average Purchase Price</th> \n",
       "        <th class=\"col_heading level0 col2\" >Total Purchase Value</th> \n",
       "        <th class=\"col_heading level0 col3\" >Normalized Totals</th> \n",
       "    </tr></thead> \n",
       "<tbody>    <tr> \n",
       "        <th id=\"T_0193bf0c_74cd_11e8_810d_784f4352aa7flevel0_row0\" class=\"row_heading level0 row0\" ><10</th> \n",
       "        <td id=\"T_0193bf0c_74cd_11e8_810d_784f4352aa7frow0_col0\" class=\"data row0 col0\" >24</td> \n",
       "        <td id=\"T_0193bf0c_74cd_11e8_810d_784f4352aa7frow0_col1\" class=\"data row0 col1\" >$2.94</td> \n",
       "        <td id=\"T_0193bf0c_74cd_11e8_810d_784f4352aa7frow0_col2\" class=\"data row0 col2\" >$70.45</td> \n",
       "        <td id=\"T_0193bf0c_74cd_11e8_810d_784f4352aa7frow0_col3\" class=\"data row0 col3\" >$3.71</td> \n",
       "    </tr>    <tr> \n",
       "        <th id=\"T_0193bf0c_74cd_11e8_810d_784f4352aa7flevel0_row1\" class=\"row_heading level0 row1\" >10-14</th> \n",
       "        <td id=\"T_0193bf0c_74cd_11e8_810d_784f4352aa7frow1_col0\" class=\"data row1 col0\" >34</td> \n",
       "        <td id=\"T_0193bf0c_74cd_11e8_810d_784f4352aa7frow1_col1\" class=\"data row1 col1\" >$2.82</td> \n",
       "        <td id=\"T_0193bf0c_74cd_11e8_810d_784f4352aa7frow1_col2\" class=\"data row1 col2\" >$95.71</td> \n",
       "        <td id=\"T_0193bf0c_74cd_11e8_810d_784f4352aa7frow1_col3\" class=\"data row1 col3\" >$4.16</td> \n",
       "    </tr>    <tr> \n",
       "        <th id=\"T_0193bf0c_74cd_11e8_810d_784f4352aa7flevel0_row2\" class=\"row_heading level0 row2\" >15-19</th> \n",
       "        <td id=\"T_0193bf0c_74cd_11e8_810d_784f4352aa7frow2_col0\" class=\"data row2 col0\" >123</td> \n",
       "        <td id=\"T_0193bf0c_74cd_11e8_810d_784f4352aa7frow2_col1\" class=\"data row2 col1\" >$2.87</td> \n",
       "        <td id=\"T_0193bf0c_74cd_11e8_810d_784f4352aa7frow2_col2\" class=\"data row2 col2\" >$352.86</td> \n",
       "        <td id=\"T_0193bf0c_74cd_11e8_810d_784f4352aa7frow2_col3\" class=\"data row2 col3\" >$3.53</td> \n",
       "    </tr>    <tr> \n",
       "        <th id=\"T_0193bf0c_74cd_11e8_810d_784f4352aa7flevel0_row3\" class=\"row_heading level0 row3\" >20-24</th> \n",
       "        <td id=\"T_0193bf0c_74cd_11e8_810d_784f4352aa7frow3_col0\" class=\"data row3 col0\" >265</td> \n",
       "        <td id=\"T_0193bf0c_74cd_11e8_810d_784f4352aa7frow3_col1\" class=\"data row3 col1\" >$2.91</td> \n",
       "        <td id=\"T_0193bf0c_74cd_11e8_810d_784f4352aa7frow3_col2\" class=\"data row3 col2\" >$771.23</td> \n",
       "        <td id=\"T_0193bf0c_74cd_11e8_810d_784f4352aa7frow3_col3\" class=\"data row3 col3\" >$2.98</td> \n",
       "    </tr>    <tr> \n",
       "        <th id=\"T_0193bf0c_74cd_11e8_810d_784f4352aa7flevel0_row4\" class=\"row_heading level0 row4\" >25-29</th> \n",
       "        <td id=\"T_0193bf0c_74cd_11e8_810d_784f4352aa7frow4_col0\" class=\"data row4 col0\" >106</td> \n",
       "        <td id=\"T_0193bf0c_74cd_11e8_810d_784f4352aa7frow4_col1\" class=\"data row4 col1\" >$3.01</td> \n",
       "        <td id=\"T_0193bf0c_74cd_11e8_810d_784f4352aa7frow4_col2\" class=\"data row4 col2\" >$318.63</td> \n",
       "        <td id=\"T_0193bf0c_74cd_11e8_810d_784f4352aa7frow4_col3\" class=\"data row4 col3\" >$3.66</td> \n",
       "    </tr>    <tr> \n",
       "        <th id=\"T_0193bf0c_74cd_11e8_810d_784f4352aa7flevel0_row5\" class=\"row_heading level0 row5\" >30-34</th> \n",
       "        <td id=\"T_0193bf0c_74cd_11e8_810d_784f4352aa7frow5_col0\" class=\"data row5 col0\" >63</td> \n",
       "        <td id=\"T_0193bf0c_74cd_11e8_810d_784f4352aa7frow5_col1\" class=\"data row5 col1\" >$3.07</td> \n",
       "        <td id=\"T_0193bf0c_74cd_11e8_810d_784f4352aa7frow5_col2\" class=\"data row5 col2\" >$193.63</td> \n",
       "        <td id=\"T_0193bf0c_74cd_11e8_810d_784f4352aa7frow5_col3\" class=\"data row5 col3\" >$4.12</td> \n",
       "    </tr>    <tr> \n",
       "        <th id=\"T_0193bf0c_74cd_11e8_810d_784f4352aa7flevel0_row6\" class=\"row_heading level0 row6\" >34-39</th> \n",
       "        <td id=\"T_0193bf0c_74cd_11e8_810d_784f4352aa7frow6_col0\" class=\"data row6 col0\" >40</td> \n",
       "        <td id=\"T_0193bf0c_74cd_11e8_810d_784f4352aa7frow6_col1\" class=\"data row6 col1\" >$2.82</td> \n",
       "        <td id=\"T_0193bf0c_74cd_11e8_810d_784f4352aa7frow6_col2\" class=\"data row6 col2\" >$112.80</td> \n",
       "        <td id=\"T_0193bf0c_74cd_11e8_810d_784f4352aa7frow6_col3\" class=\"data row6 col3\" >$4.18</td> \n",
       "    </tr>    <tr> \n",
       "        <th id=\"T_0193bf0c_74cd_11e8_810d_784f4352aa7flevel0_row7\" class=\"row_heading level0 row7\" >40+</th> \n",
       "        <td id=\"T_0193bf0c_74cd_11e8_810d_784f4352aa7frow7_col0\" class=\"data row7 col0\" >17</td> \n",
       "        <td id=\"T_0193bf0c_74cd_11e8_810d_784f4352aa7frow7_col1\" class=\"data row7 col1\" >$3.16</td> \n",
       "        <td id=\"T_0193bf0c_74cd_11e8_810d_784f4352aa7frow7_col2\" class=\"data row7 col2\" >$53.75</td> \n",
       "        <td id=\"T_0193bf0c_74cd_11e8_810d_784f4352aa7frow7_col3\" class=\"data row7 col3\" >$4.89</td> \n",
       "    </tr></tbody> \n",
       "</table> "
      ],
      "text/plain": [
       "<pandas.io.formats.style.Styler at 0x1075d7048>"
      ]
     },
     "execution_count": 18,
     "metadata": {},
     "output_type": "execute_result"
    }
   ],
   "source": [
    "ad2 = heroes[[\"Age\", \"Price\"]]\n",
    "mod_ad2 = ad2.drop_duplicates()\n",
    "\n",
    "# Purchase Count\n",
    "purchase_10 = mod_ad2[mod_ad2[\"Age\"] < 10].count()[0]\n",
    "purchase_14 = mod_ad2[(mod_ad2[\"Age\"] >= 10) & (mod_ad2[\"Age\"] <= 14)].count()[0]\n",
    "purchase_19 = mod_ad2[(mod_ad2[\"Age\"] >= 15) & (mod_ad2[\"Age\"] <= 19)].count()[0]\n",
    "purchase_24 = mod_ad2[(mod_ad2[\"Age\"] >= 20) & (mod_ad2[\"Age\"] <= 24)].count()[0]\n",
    "purchase_29 = mod_ad2[(mod_ad2[\"Age\"] >= 25) & (mod_ad2[\"Age\"] <= 29)].count()[0]\n",
    "purchase_34 = mod_ad2[(mod_ad2[\"Age\"] >= 30) & (mod_ad2[\"Age\"] <= 34)].count()[0]\n",
    "purchase_39 = mod_ad2[(mod_ad2[\"Age\"] >= 35) & (mod_ad2[\"Age\"] <= 39)].count()[0]\n",
    "purchase_40 = mod_ad2[mod_ad2[\"Age\"] >= 40].count()[0]\n",
    "purchases_a = [purchase_10, purchase_14, purchase_19, purchase_24, purchase_29, purchase_34, purchase_39, purchase_40]\n",
    "\n",
    "# Total Purchase Value\n",
    "total_10 = mod_ad2.loc[mod_ad2['Age'] < 10, 'Price'].sum()\n",
    "total_14 = mod_ad2.loc[(mod_ad2['Age'] >= 10) & (mod_ad2['Age'] <=14), 'Price'].sum()\n",
    "total_19 = mod_ad2.loc[(mod_ad2['Age'] >= 15) & (mod_ad2['Age'] <=19), 'Price'].sum()\n",
    "total_24 = mod_ad2.loc[(mod_ad2['Age'] >= 20) & (mod_ad2['Age'] <=24), 'Price'].sum()\n",
    "total_29 = mod_ad2.loc[(mod_ad2['Age'] >= 25) & (mod_ad2['Age'] <=29), 'Price'].sum()\n",
    "total_34 = mod_ad2.loc[(mod_ad2['Age'] >= 30) & (mod_ad2['Age'] <=34), 'Price'].sum()\n",
    "total_39 = mod_ad2.loc[(mod_ad2['Age'] >= 35) & (mod_ad2['Age'] <=39), 'Price'].sum()\n",
    "total_40 = mod_ad2.loc[mod_ad2['Age'] >= 40, 'Price'].sum()\n",
    "totals_a = [total_10, total_14, total_19, total_24, total_29, total_34, total_39, total_40]\n",
    "\n",
    "# Average Purchase Price\n",
    "avg_price_a = [total_10/purchase_10, total_14/purchase_14, total_19/purchase_19, total_24/purchase_24, total_29/purchase_29,\n",
    "              total_34/purchase_34, total_39/purchase_39, total_40/purchase_40]\n",
    "\n",
    "# Normalized Totals\n",
    "norms_a = [total_10/ten, total_14/ten_more, total_19/teens, total_24/twenty, total_29/twenty_more, total_34/thirty,\n",
    "           total_39/thirty_more, total_40/forty]\n",
    "\n",
    "# Creating dictionary\n",
    "puchase_analysis_a = {\n",
    "    \"Purchase Count\": purchases_a,\n",
    "    \"Average Purchase Price\": avg_price_a,\n",
    "    \"Total Purchase Value\": totals_a,\n",
    "    \"Normalized Totals\": norms_a\n",
    "}\n",
    "\n",
    "# Creating DataFrame & setting index\n",
    "purchase_analysis_a_df = pd.DataFrame(puchase_analysis_a)\n",
    "purchase_analysis_a_df = purchase_analysis_a_df[['Purchase Count', 'Average Purchase Price', 'Total Purchase Value',\n",
    "                                                 'Normalized Totals']]\n",
    "purchase_analysis_a_df.index = ([\"<10\", \"10-14\",\"15-19\",\"20-24\",\"25-29\",\"30-34\",\"34-39\",\"40+\"])\n",
    "\n",
    "# Formatting Prices\n",
    "purchase_analysis_a_df.style.format({\"Average Purchase Price\": \"${:.2f}\", \"Normalized Totals\": \"${:.2f}\",\n",
    "                                     \"Total Purchase Value\":\"${:.2f}\"})"
   ]
  },
  {
   "cell_type": "code",
   "execution_count": 19,
   "metadata": {},
   "outputs": [
    {
     "data": {
      "text/html": [
       "<style  type=\"text/css\" >\n",
       "</style>  \n",
       "<table id=\"T_01975b6c_74cd_11e8_bb71_784f4352aa7f\" > \n",
       "<thead>    <tr> \n",
       "        <th class=\"blank level0\" ></th> \n",
       "        <th class=\"col_heading level0 col0\" >Purchase Count</th> \n",
       "        <th class=\"col_heading level0 col1\" >Average Purchase Price</th> \n",
       "        <th class=\"col_heading level0 col2\" >Total Purchase Value</th> \n",
       "    </tr>    <tr> \n",
       "        <th class=\"index_name level0\" >SN</th> \n",
       "        <th class=\"blank\" ></th> \n",
       "        <th class=\"blank\" ></th> \n",
       "        <th class=\"blank\" ></th> \n",
       "    </tr></thead> \n",
       "<tbody>    <tr> \n",
       "        <th id=\"T_01975b6c_74cd_11e8_bb71_784f4352aa7flevel0_row0\" class=\"row_heading level0 row0\" >Undirrala66</th> \n",
       "        <td id=\"T_01975b6c_74cd_11e8_bb71_784f4352aa7frow0_col0\" class=\"data row0 col0\" >5</td> \n",
       "        <td id=\"T_01975b6c_74cd_11e8_bb71_784f4352aa7frow0_col1\" class=\"data row0 col1\" >$3.41</td> \n",
       "        <td id=\"T_01975b6c_74cd_11e8_bb71_784f4352aa7frow0_col2\" class=\"data row0 col2\" >$17.06</td> \n",
       "    </tr>    <tr> \n",
       "        <th id=\"T_01975b6c_74cd_11e8_bb71_784f4352aa7flevel0_row1\" class=\"row_heading level0 row1\" >Saedue76</th> \n",
       "        <td id=\"T_01975b6c_74cd_11e8_bb71_784f4352aa7frow1_col0\" class=\"data row1 col0\" >4</td> \n",
       "        <td id=\"T_01975b6c_74cd_11e8_bb71_784f4352aa7frow1_col1\" class=\"data row1 col1\" >$3.39</td> \n",
       "        <td id=\"T_01975b6c_74cd_11e8_bb71_784f4352aa7frow1_col2\" class=\"data row1 col2\" >$13.56</td> \n",
       "    </tr>    <tr> \n",
       "        <th id=\"T_01975b6c_74cd_11e8_bb71_784f4352aa7flevel0_row2\" class=\"row_heading level0 row2\" >Mindimnya67</th> \n",
       "        <td id=\"T_01975b6c_74cd_11e8_bb71_784f4352aa7frow2_col0\" class=\"data row2 col0\" >4</td> \n",
       "        <td id=\"T_01975b6c_74cd_11e8_bb71_784f4352aa7frow2_col1\" class=\"data row2 col1\" >$3.18</td> \n",
       "        <td id=\"T_01975b6c_74cd_11e8_bb71_784f4352aa7frow2_col2\" class=\"data row2 col2\" >$12.74</td> \n",
       "    </tr>    <tr> \n",
       "        <th id=\"T_01975b6c_74cd_11e8_bb71_784f4352aa7flevel0_row3\" class=\"row_heading level0 row3\" >Haellysu29</th> \n",
       "        <td id=\"T_01975b6c_74cd_11e8_bb71_784f4352aa7frow3_col0\" class=\"data row3 col0\" >3</td> \n",
       "        <td id=\"T_01975b6c_74cd_11e8_bb71_784f4352aa7frow3_col1\" class=\"data row3 col1\" >$4.24</td> \n",
       "        <td id=\"T_01975b6c_74cd_11e8_bb71_784f4352aa7frow3_col2\" class=\"data row3 col2\" >$12.73</td> \n",
       "    </tr>    <tr> \n",
       "        <th id=\"T_01975b6c_74cd_11e8_bb71_784f4352aa7flevel0_row4\" class=\"row_heading level0 row4\" >Eoda93</th> \n",
       "        <td id=\"T_01975b6c_74cd_11e8_bb71_784f4352aa7frow4_col0\" class=\"data row4 col0\" >3</td> \n",
       "        <td id=\"T_01975b6c_74cd_11e8_bb71_784f4352aa7frow4_col1\" class=\"data row4 col1\" >$3.86</td> \n",
       "        <td id=\"T_01975b6c_74cd_11e8_bb71_784f4352aa7frow4_col2\" class=\"data row4 col2\" >$11.58</td> \n",
       "    </tr></tbody> \n",
       "</table> "
      ],
      "text/plain": [
       "<pandas.io.formats.style.Styler at 0x10765e2e8>"
      ]
     },
     "execution_count": 19,
     "metadata": {},
     "output_type": "execute_result"
    }
   ],
   "source": [
    "# TOP SPENDERS\n",
    "\n",
    "sn_total_purchase = heroes.groupby(\"SN\")[\"Price\"].sum().to_frame()\n",
    "sn_purchase_count = heroes.groupby(\"SN\")[\"Price\"].count().to_frame()\n",
    "sn_purchase_avg = heroes.groupby(\"SN\")[\"Price\"].mean().to_frame()\n",
    "\n",
    "sn_total_purchase.columns=[\"Total Purchase Value\"]\n",
    "join_one = sn_total_purchase.join(sn_purchase_count, how=\"left\")\n",
    "join_one.columns=[\"Total Purchase Value\", \"Purchase Count\"]\n",
    "\n",
    "join_two = join_one.join(sn_purchase_avg, how=\"inner\")\n",
    "join_two.columns=[\"Total Purchase Value\", \"Purchase Count\", \"Average Purchase Price\"]\n",
    "\n",
    "top_spenders_df = join_two[[\"Purchase Count\", \"Average Purchase Price\", \"Total Purchase Value\"]]\n",
    "top_spenders_final = top_spenders_df.sort_values('Total Purchase Value', ascending=False).head()\n",
    "top_spenders_final.style.format({\"Average Purchase Price\": \"${:.2f}\", \"Total Purchase Value\": \"${:.2f}\"})"
   ]
  },
  {
   "cell_type": "code",
   "execution_count": 20,
   "metadata": {},
   "outputs": [
    {
     "data": {
      "text/html": [
       "<style  type=\"text/css\" >\n",
       "</style>  \n",
       "<table id=\"T_01aa7058_74cd_11e8_9ef0_784f4352aa7f\" > \n",
       "<thead>    <tr> \n",
       "        <th class=\"blank\" ></th> \n",
       "        <th class=\"blank level0\" ></th> \n",
       "        <th class=\"col_heading level0 col0\" >Purchase Count</th> \n",
       "        <th class=\"col_heading level0 col1\" >Item Price</th> \n",
       "        <th class=\"col_heading level0 col2\" >Total Purchase Value</th> \n",
       "    </tr>    <tr> \n",
       "        <th class=\"index_name level0\" >Item Name</th> \n",
       "        <th class=\"index_name level1\" >Item ID</th> \n",
       "        <th class=\"blank\" ></th> \n",
       "        <th class=\"blank\" ></th> \n",
       "        <th class=\"blank\" ></th> \n",
       "    </tr></thead> \n",
       "<tbody>    <tr> \n",
       "        <th id=\"T_01aa7058_74cd_11e8_9ef0_784f4352aa7flevel0_row0\" class=\"row_heading level0 row0\" >Arcane Gem</th> \n",
       "        <th id=\"T_01aa7058_74cd_11e8_9ef0_784f4352aa7flevel1_row0\" class=\"row_heading level1 row0\" >84</th> \n",
       "        <td id=\"T_01aa7058_74cd_11e8_9ef0_784f4352aa7frow0_col0\" class=\"data row0 col0\" >11</td> \n",
       "        <td id=\"T_01aa7058_74cd_11e8_9ef0_784f4352aa7frow0_col1\" class=\"data row0 col1\" >$2.23</td> \n",
       "        <td id=\"T_01aa7058_74cd_11e8_9ef0_784f4352aa7frow0_col2\" class=\"data row0 col2\" >$24.53</td> \n",
       "    </tr>    <tr> \n",
       "        <th id=\"T_01aa7058_74cd_11e8_9ef0_784f4352aa7flevel0_row1\" class=\"row_heading level0 row1\" >Betrayal, Whisper of Grieving Widows</th> \n",
       "        <th id=\"T_01aa7058_74cd_11e8_9ef0_784f4352aa7flevel1_row1\" class=\"row_heading level1 row1\" >39</th> \n",
       "        <td id=\"T_01aa7058_74cd_11e8_9ef0_784f4352aa7frow1_col0\" class=\"data row1 col0\" >11</td> \n",
       "        <td id=\"T_01aa7058_74cd_11e8_9ef0_784f4352aa7frow1_col1\" class=\"data row1 col1\" >$2.35</td> \n",
       "        <td id=\"T_01aa7058_74cd_11e8_9ef0_784f4352aa7frow1_col2\" class=\"data row1 col2\" >$25.85</td> \n",
       "    </tr>    <tr> \n",
       "        <th id=\"T_01aa7058_74cd_11e8_9ef0_784f4352aa7flevel0_row2\" class=\"row_heading level0 row2\" >Trickster</th> \n",
       "        <th id=\"T_01aa7058_74cd_11e8_9ef0_784f4352aa7flevel1_row2\" class=\"row_heading level1 row2\" >31</th> \n",
       "        <td id=\"T_01aa7058_74cd_11e8_9ef0_784f4352aa7frow2_col0\" class=\"data row2 col0\" >9</td> \n",
       "        <td id=\"T_01aa7058_74cd_11e8_9ef0_784f4352aa7frow2_col1\" class=\"data row2 col1\" >$2.07</td> \n",
       "        <td id=\"T_01aa7058_74cd_11e8_9ef0_784f4352aa7frow2_col2\" class=\"data row2 col2\" >$18.63</td> \n",
       "    </tr>    <tr> \n",
       "        <th id=\"T_01aa7058_74cd_11e8_9ef0_784f4352aa7flevel0_row3\" class=\"row_heading level0 row3\" >Woeful Adamantite Claymore</th> \n",
       "        <th id=\"T_01aa7058_74cd_11e8_9ef0_784f4352aa7flevel1_row3\" class=\"row_heading level1 row3\" >175</th> \n",
       "        <td id=\"T_01aa7058_74cd_11e8_9ef0_784f4352aa7frow3_col0\" class=\"data row3 col0\" >9</td> \n",
       "        <td id=\"T_01aa7058_74cd_11e8_9ef0_784f4352aa7frow3_col1\" class=\"data row3 col1\" >$1.24</td> \n",
       "        <td id=\"T_01aa7058_74cd_11e8_9ef0_784f4352aa7frow3_col2\" class=\"data row3 col2\" >$11.16</td> \n",
       "    </tr>    <tr> \n",
       "        <th id=\"T_01aa7058_74cd_11e8_9ef0_784f4352aa7flevel0_row4\" class=\"row_heading level0 row4\" >Serenity</th> \n",
       "        <th id=\"T_01aa7058_74cd_11e8_9ef0_784f4352aa7flevel1_row4\" class=\"row_heading level1 row4\" >13</th> \n",
       "        <td id=\"T_01aa7058_74cd_11e8_9ef0_784f4352aa7frow4_col0\" class=\"data row4 col0\" >9</td> \n",
       "        <td id=\"T_01aa7058_74cd_11e8_9ef0_784f4352aa7frow4_col1\" class=\"data row4 col1\" >$1.49</td> \n",
       "        <td id=\"T_01aa7058_74cd_11e8_9ef0_784f4352aa7frow4_col2\" class=\"data row4 col2\" >$13.41</td> \n",
       "    </tr></tbody> \n",
       "</table> "
      ],
      "text/plain": [
       "<pandas.io.formats.style.Styler at 0x10767fc50>"
      ]
     },
     "execution_count": 20,
     "metadata": {},
     "output_type": "execute_result"
    }
   ],
   "source": [
    "# MOST POPULAR ITEMS\n",
    "\n",
    "# Merge dataframe to find purchase count, total purchase value for items\n",
    "premerge1 = heroes.groupby(\"Item Name\").sum().reset_index()\n",
    "premerge2 = heroes.groupby(\"Item ID\").sum().reset_index()\n",
    "premerge3 = heroes.groupby(\"Item Name\").count().reset_index()\n",
    "\n",
    "# Merge dataframes\n",
    "merge1 = pd.merge(premerge1, premerge2, on=\"Price\")\n",
    "merge2 = pd.merge(premerge3, merge1, on=\"Item Name\")\n",
    "\n",
    "# Create final dataframe by manipulating data\n",
    "merge2[\"Gender\"] = (merge2[\"Price_y\"]/merge2[\"Item ID\"]).round(2)\n",
    "\n",
    "merge2_renamed = merge2.rename(columns={\"Age\": \"Purchase Count\", \"Gender\": \"Item Price\", \"Item ID\": \"null\", \"Price_y\": \"Total Purchase Value\", \"Item ID_y\": \"Item ID\"})\n",
    "\n",
    "# Columns needed to look into for top 5 results\n",
    "clean_df = merge2_renamed[[\"Item ID\", \"Item Name\", 'Purchase Count', \"Item Price\", \"Total Purchase Value\"]]\n",
    "\n",
    "prefinal_df = clean_df.set_index(['Item Name', 'Item ID'])\n",
    "popular_items_final = prefinal_df.sort_values(\"Purchase Count\", ascending=False).head(5)\n",
    "popular_items_final.style.format({\"Item Price\": \"${:.2f}\", \"Total Purchase Value\": \"${:.2f}\"})\n"
   ]
  },
  {
   "cell_type": "code",
   "execution_count": 21,
   "metadata": {},
   "outputs": [
    {
     "data": {
      "text/html": [
       "<style  type=\"text/css\" >\n",
       "</style>  \n",
       "<table id=\"T_01abefdc_74cd_11e8_9434_784f4352aa7f\" > \n",
       "<thead>    <tr> \n",
       "        <th class=\"blank\" ></th> \n",
       "        <th class=\"blank level0\" ></th> \n",
       "        <th class=\"col_heading level0 col0\" >Purchase Count</th> \n",
       "        <th class=\"col_heading level0 col1\" >Item Price</th> \n",
       "        <th class=\"col_heading level0 col2\" >Total Purchase Value</th> \n",
       "    </tr>    <tr> \n",
       "        <th class=\"index_name level0\" >Item Name</th> \n",
       "        <th class=\"index_name level1\" >Item ID</th> \n",
       "        <th class=\"blank\" ></th> \n",
       "        <th class=\"blank\" ></th> \n",
       "        <th class=\"blank\" ></th> \n",
       "    </tr></thead> \n",
       "<tbody>    <tr> \n",
       "        <th id=\"T_01abefdc_74cd_11e8_9434_784f4352aa7flevel0_row0\" class=\"row_heading level0 row0\" >Retribution Axe</th> \n",
       "        <th id=\"T_01abefdc_74cd_11e8_9434_784f4352aa7flevel1_row0\" class=\"row_heading level1 row0\" >34</th> \n",
       "        <td id=\"T_01abefdc_74cd_11e8_9434_784f4352aa7frow0_col0\" class=\"data row0 col0\" >9</td> \n",
       "        <td id=\"T_01abefdc_74cd_11e8_9434_784f4352aa7frow0_col1\" class=\"data row0 col1\" >$4.14</td> \n",
       "        <td id=\"T_01abefdc_74cd_11e8_9434_784f4352aa7frow0_col2\" class=\"data row0 col2\" >$37.26</td> \n",
       "    </tr>    <tr> \n",
       "        <th id=\"T_01abefdc_74cd_11e8_9434_784f4352aa7flevel0_row1\" class=\"row_heading level0 row1\" >Spectral Diamond Doomblade</th> \n",
       "        <th id=\"T_01abefdc_74cd_11e8_9434_784f4352aa7flevel1_row1\" class=\"row_heading level1 row1\" >115</th> \n",
       "        <td id=\"T_01abefdc_74cd_11e8_9434_784f4352aa7frow1_col0\" class=\"data row1 col0\" >7</td> \n",
       "        <td id=\"T_01abefdc_74cd_11e8_9434_784f4352aa7frow1_col1\" class=\"data row1 col1\" >$4.25</td> \n",
       "        <td id=\"T_01abefdc_74cd_11e8_9434_784f4352aa7frow1_col2\" class=\"data row1 col2\" >$29.75</td> \n",
       "    </tr>    <tr> \n",
       "        <th id=\"T_01abefdc_74cd_11e8_9434_784f4352aa7flevel0_row2\" class=\"row_heading level0 row2\" >Orenmir</th> \n",
       "        <th id=\"T_01abefdc_74cd_11e8_9434_784f4352aa7flevel1_row2\" class=\"row_heading level1 row2\" >32</th> \n",
       "        <td id=\"T_01abefdc_74cd_11e8_9434_784f4352aa7frow2_col0\" class=\"data row2 col0\" >6</td> \n",
       "        <td id=\"T_01abefdc_74cd_11e8_9434_784f4352aa7frow2_col1\" class=\"data row2 col1\" >$4.95</td> \n",
       "        <td id=\"T_01abefdc_74cd_11e8_9434_784f4352aa7frow2_col2\" class=\"data row2 col2\" >$29.70</td> \n",
       "    </tr>    <tr> \n",
       "        <th id=\"T_01abefdc_74cd_11e8_9434_784f4352aa7flevel0_row3\" class=\"row_heading level0 row3\" >Singed Scalpel</th> \n",
       "        <th id=\"T_01abefdc_74cd_11e8_9434_784f4352aa7flevel1_row3\" class=\"row_heading level1 row3\" >103</th> \n",
       "        <td id=\"T_01abefdc_74cd_11e8_9434_784f4352aa7frow3_col0\" class=\"data row3 col0\" >6</td> \n",
       "        <td id=\"T_01abefdc_74cd_11e8_9434_784f4352aa7frow3_col1\" class=\"data row3 col1\" >$4.87</td> \n",
       "        <td id=\"T_01abefdc_74cd_11e8_9434_784f4352aa7frow3_col2\" class=\"data row3 col2\" >$29.22</td> \n",
       "    </tr>    <tr> \n",
       "        <th id=\"T_01abefdc_74cd_11e8_9434_784f4352aa7flevel0_row4\" class=\"row_heading level0 row4\" >Splitter, Foe Of Subtlety</th> \n",
       "        <th id=\"T_01abefdc_74cd_11e8_9434_784f4352aa7flevel1_row4\" class=\"row_heading level1 row4\" >107</th> \n",
       "        <td id=\"T_01abefdc_74cd_11e8_9434_784f4352aa7frow4_col0\" class=\"data row4 col0\" >8</td> \n",
       "        <td id=\"T_01abefdc_74cd_11e8_9434_784f4352aa7frow4_col1\" class=\"data row4 col1\" >$3.61</td> \n",
       "        <td id=\"T_01abefdc_74cd_11e8_9434_784f4352aa7frow4_col2\" class=\"data row4 col2\" >$28.88</td> \n",
       "    </tr></tbody> \n",
       "</table> "
      ],
      "text/plain": [
       "<pandas.io.formats.style.Styler at 0x10766d668>"
      ]
     },
     "execution_count": 21,
     "metadata": {},
     "output_type": "execute_result"
    }
   ],
   "source": [
    "# MOST PROFITABLE ITEMS\n",
    "\n",
    "# Use prefinal dataframe to generate information on most profitable items\n",
    "profit_items_final = prefinal_df.sort_values('Total Purchase Value', ascending=False).head()\n",
    "profit_items_final.style.format({\"Item Price\": \"${:.2f}\", \"Total Purchase Value\": \"${:.2f}\"})"
   ]
  },
  {
   "cell_type": "code",
   "execution_count": null,
   "metadata": {},
   "outputs": [],
   "source": []
  }
 ],
 "metadata": {
  "kernelspec": {
   "display_name": "Python 3",
   "language": "python",
   "name": "python3"
  },
  "language_info": {
   "codemirror_mode": {
    "name": "ipython",
    "version": 3
   },
   "file_extension": ".py",
   "mimetype": "text/x-python",
   "name": "python",
   "nbconvert_exporter": "python",
   "pygments_lexer": "ipython3",
   "version": "3.6.5"
  }
 },
 "nbformat": 4,
 "nbformat_minor": 2
}
